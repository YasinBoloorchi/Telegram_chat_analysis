{
 "cells": [
  {
   "cell_type": "code",
   "execution_count": 318,
   "metadata": {},
   "outputs": [],
   "source": [
    "import pandas as pd\n",
    "import matplotlib.pyplot as plt"
   ]
  },
  {
   "cell_type": "code",
   "execution_count": 319,
   "metadata": {},
   "outputs": [],
   "source": [
    "invert_indx_df = pd.read_json('./invert_index.json').transpose()\n",
    "doc_info_df = pd.read_json('./doc_info.json').transpose()"
   ]
  },
  {
   "cell_type": "code",
   "execution_count": 320,
   "metadata": {},
   "outputs": [
    {
     "data": {
      "text/html": [
       "<div>\n",
       "<style scoped>\n",
       "    .dataframe tbody tr th:only-of-type {\n",
       "        vertical-align: middle;\n",
       "    }\n",
       "\n",
       "    .dataframe tbody tr th {\n",
       "        vertical-align: top;\n",
       "    }\n",
       "\n",
       "    .dataframe thead th {\n",
       "        text-align: right;\n",
       "    }\n",
       "</style>\n",
       "<table border=\"1\" class=\"dataframe\">\n",
       "  <thead>\n",
       "    <tr style=\"text-align: right;\">\n",
       "      <th></th>\n",
       "      <th>DF</th>\n",
       "    </tr>\n",
       "  </thead>\n",
       "  <tbody>\n",
       "    <tr>\n",
       "      <th>اوکیه</th>\n",
       "      <td>38</td>\n",
       "    </tr>\n",
       "    <tr>\n",
       "      <th>سینا</th>\n",
       "      <td>31</td>\n",
       "    </tr>\n",
       "    <tr>\n",
       "      <th>خوبه</th>\n",
       "      <td>25</td>\n",
       "    </tr>\n",
       "    <tr>\n",
       "      <th>عزیزم</th>\n",
       "      <td>23</td>\n",
       "    </tr>\n",
       "    <tr>\n",
       "      <th>کار</th>\n",
       "      <td>22</td>\n",
       "    </tr>\n",
       "    <tr>\n",
       "      <th>لینوکس</th>\n",
       "      <td>21</td>\n",
       "    </tr>\n",
       "    <tr>\n",
       "      <th>بابا</th>\n",
       "      <td>21</td>\n",
       "    </tr>\n",
       "    <tr>\n",
       "      <th>فعلا</th>\n",
       "      <td>20</td>\n",
       "    </tr>\n",
       "    <tr>\n",
       "      <th>نصب</th>\n",
       "      <td>19</td>\n",
       "    </tr>\n",
       "    <tr>\n",
       "      <th>سنندج</th>\n",
       "      <td>18</td>\n",
       "    </tr>\n",
       "  </tbody>\n",
       "</table>\n",
       "</div>"
      ],
      "text/plain": [
       "        DF\n",
       "اوکیه   38\n",
       "سینا    31\n",
       "خوبه    25\n",
       "عزیزم   23\n",
       "کار     22\n",
       "لینوکس  21\n",
       "بابا    21\n",
       "فعلا    20\n",
       "نصب     19\n",
       "سنندج   18"
      ]
     },
     "execution_count": 320,
     "metadata": {},
     "output_type": "execute_result"
    }
   ],
   "source": [
    "invert_indx_df = invert_indx_df.sort_values(by='DF', ascending=False)\n",
    "top_word_df = invert_indx_df[:10]\n",
    "top_word_df = top_word_df.drop(['DocIDs','DocTF'], axis=1)\n",
    "top_word_df"
   ]
  },
  {
   "cell_type": "code",
   "execution_count": 321,
   "metadata": {},
   "outputs": [
    {
     "data": {
      "text/html": [
       "<div>\n",
       "<style scoped>\n",
       "    .dataframe tbody tr th:only-of-type {\n",
       "        vertical-align: middle;\n",
       "    }\n",
       "\n",
       "    .dataframe tbody tr th {\n",
       "        vertical-align: top;\n",
       "    }\n",
       "\n",
       "    .dataframe thead th {\n",
       "        text-align: right;\n",
       "    }\n",
       "</style>\n",
       "<table border=\"1\" class=\"dataframe\">\n",
       "  <thead>\n",
       "    <tr style=\"text-align: right;\">\n",
       "      <th></th>\n",
       "      <th>from</th>\n",
       "      <th>time</th>\n",
       "    </tr>\n",
       "  </thead>\n",
       "  <tbody>\n",
       "    <tr>\n",
       "      <th>1</th>\n",
       "      <td>Yasin</td>\n",
       "      <td>07.09.2019 15:34:42</td>\n",
       "    </tr>\n",
       "    <tr>\n",
       "      <th>2</th>\n",
       "      <td>سینا</td>\n",
       "      <td>07.09.2019 15:35:13</td>\n",
       "    </tr>\n",
       "    <tr>\n",
       "      <th>3</th>\n",
       "      <td>Yasin</td>\n",
       "      <td>07.09.2019 15:35:13</td>\n",
       "    </tr>\n",
       "    <tr>\n",
       "      <th>4</th>\n",
       "      <td>سینا</td>\n",
       "      <td>07.09.2019 15:35:30</td>\n",
       "    </tr>\n",
       "    <tr>\n",
       "      <th>5</th>\n",
       "      <td>Yasin</td>\n",
       "      <td>07.09.2019 15:35:34</td>\n",
       "    </tr>\n",
       "    <tr>\n",
       "      <th>...</th>\n",
       "      <td>...</td>\n",
       "      <td>...</td>\n",
       "    </tr>\n",
       "    <tr>\n",
       "      <th>1833</th>\n",
       "      <td>سینا</td>\n",
       "      <td>07.09.2019 15:27:21</td>\n",
       "    </tr>\n",
       "    <tr>\n",
       "      <th>1834</th>\n",
       "      <td>سینا</td>\n",
       "      <td>07.09.2019 15:28:50</td>\n",
       "    </tr>\n",
       "    <tr>\n",
       "      <th>1835</th>\n",
       "      <td>Yasin</td>\n",
       "      <td>07.09.2019 15:29:02</td>\n",
       "    </tr>\n",
       "    <tr>\n",
       "      <th>1836</th>\n",
       "      <td>سینا</td>\n",
       "      <td>07.09.2019 15:30:04</td>\n",
       "    </tr>\n",
       "    <tr>\n",
       "      <th>1837</th>\n",
       "      <td>Yasin</td>\n",
       "      <td>07.09.2019 15:30:28</td>\n",
       "    </tr>\n",
       "  </tbody>\n",
       "</table>\n",
       "<p>1837 rows × 2 columns</p>\n",
       "</div>"
      ],
      "text/plain": [
       "               from                 time\n",
       "1     Yasin          07.09.2019 15:34:42\n",
       "2      سینا          07.09.2019 15:35:13\n",
       "3     Yasin          07.09.2019 15:35:13\n",
       "4      سینا          07.09.2019 15:35:30\n",
       "5     Yasin          07.09.2019 15:35:34\n",
       "...             ...                  ...\n",
       "1833   سینا          07.09.2019 15:27:21\n",
       "1834   سینا          07.09.2019 15:28:50\n",
       "1835  Yasin          07.09.2019 15:29:02\n",
       "1836   سینا          07.09.2019 15:30:04\n",
       "1837  Yasin          07.09.2019 15:30:28\n",
       "\n",
       "[1837 rows x 2 columns]"
      ]
     },
     "execution_count": 321,
     "metadata": {},
     "output_type": "execute_result"
    }
   ],
   "source": [
    "doc_info_df"
   ]
  },
  {
   "cell_type": "code",
   "execution_count": 322,
   "metadata": {},
   "outputs": [
    {
     "data": {
      "text/plain": [
       "<bound method NDFrame.to_latex of         DF\n",
       "اوکیه   38\n",
       "سینا    31\n",
       "خوبه    25\n",
       "عزیزم   23\n",
       "کار     22\n",
       "لینوکس  21\n",
       "بابا    21\n",
       "فعلا    20\n",
       "نصب     19\n",
       "سنندج   18>"
      ]
     },
     "execution_count": 322,
     "metadata": {},
     "output_type": "execute_result"
    }
   ],
   "source": [
    "top_word_df.to_latex"
   ]
  },
  {
   "cell_type": "code",
   "execution_count": 355,
   "metadata": {},
   "outputs": [
    {
     "data": {
      "image/png": "[encoded data removed]",
      "text/plain": [
       "<Figure size 1080x1080 with 1 Axes>"
      ]
     },
     "metadata": {
      "needs_background": "light"
     },
     "output_type": "display_data"
    }
   ],
   "source": [
    "plt.figure(figsize=(15,15))\n",
    "# plt.subplot(2,2,1)\n",
    "plt.bar(top_word_df.index , top_word_df.DF, color='#58b4ae')\n",
    "plt.xticks(rotation='vertical')\n",
    "\n",
    "\n",
    "\n",
    "plt.show()"
   ]
  },
  {
   "cell_type": "code",
   "execution_count": 324,
   "metadata": {},
   "outputs": [
    {
     "data": {
      "text/plain": [
       "array(['Yasin        ', 'سینا        '], dtype=object)"
      ]
     },
     "execution_count": 324,
     "metadata": {},
     "output_type": "execute_result"
    }
   ],
   "source": [
    "persons = doc_info_df['from'].unique()\n",
    "persons\n",
    "# person_message_count  = pd.DataFrame(doc_info_df['from'].value_counts())\n",
    "# person_message_count"
   ]
  },
  {
   "cell_type": "code",
   "execution_count": 367,
   "metadata": {},
   "outputs": [
    {
     "name": "stderr",
     "output_type": "stream",
     "text": [
      "/home/hakim/.local/lib/python3.6/site-packages/ipykernel_launcher.py:3: MatplotlibDeprecationWarning: Non-1D inputs to pie() are currently squeeze()d, but this behavior is deprecated since 3.1 and will be removed in 3.3; pass a 1D array instead.\n",
      "  This is separate from the ipykernel package so we can avoid doing imports until\n"
     ]
    },
    {
     "data": {
      "image/png": "[encoded data removed]",
      "text/plain": [
       "<Figure size 360x360 with 1 Axes>"
      ]
     },
     "metadata": {},
     "output_type": "display_data"
    }
   ],
   "source": [
    "# plt.bar(person_message_count.index, person_message_count['from'], color=['#5fdde5', '#f37121'])\n",
    "plt.figure(figsize=(5,5))\n",
    "plt.pie(person_message_count, labels=persons)\n",
    "plt.show()"
   ]
  },
  {
   "cell_type": "code",
   "execution_count": 345,
   "metadata": {},
   "outputs": [
    {
     "data": {
      "text/html": [
       "<div>\n",
       "<style scoped>\n",
       "    .dataframe tbody tr th:only-of-type {\n",
       "        vertical-align: middle;\n",
       "    }\n",
       "\n",
       "    .dataframe tbody tr th {\n",
       "        vertical-align: top;\n",
       "    }\n",
       "\n",
       "    .dataframe thead th {\n",
       "        text-align: right;\n",
       "    }\n",
       "</style>\n",
       "<table border=\"1\" class=\"dataframe\">\n",
       "  <thead>\n",
       "    <tr style=\"text-align: right;\">\n",
       "      <th></th>\n",
       "      <th>day</th>\n",
       "    </tr>\n",
       "  </thead>\n",
       "  <tbody>\n",
       "    <tr>\n",
       "      <th>01.09.2019</th>\n",
       "      <td>226</td>\n",
       "    </tr>\n",
       "    <tr>\n",
       "      <th>07.09.2019</th>\n",
       "      <td>214</td>\n",
       "    </tr>\n",
       "    <tr>\n",
       "      <th>14.08.2019</th>\n",
       "      <td>146</td>\n",
       "    </tr>\n",
       "    <tr>\n",
       "      <th>05.06.2019</th>\n",
       "      <td>106</td>\n",
       "    </tr>\n",
       "    <tr>\n",
       "      <th>10.09.2019</th>\n",
       "      <td>81</td>\n",
       "    </tr>\n",
       "    <tr>\n",
       "      <th>07.06.2019</th>\n",
       "      <td>78</td>\n",
       "    </tr>\n",
       "    <tr>\n",
       "      <th>20.04.2020</th>\n",
       "      <td>67</td>\n",
       "    </tr>\n",
       "    <tr>\n",
       "      <th>10.06.2019</th>\n",
       "      <td>58</td>\n",
       "    </tr>\n",
       "    <tr>\n",
       "      <th>03.04.2019</th>\n",
       "      <td>56</td>\n",
       "    </tr>\n",
       "    <tr>\n",
       "      <th>06.06.2019</th>\n",
       "      <td>52</td>\n",
       "    </tr>\n",
       "  </tbody>\n",
       "</table>\n",
       "</div>"
      ],
      "text/plain": [
       "            day\n",
       "01.09.2019  226\n",
       "07.09.2019  214\n",
       "14.08.2019  146\n",
       "05.06.2019  106\n",
       "10.09.2019   81\n",
       "07.06.2019   78\n",
       "20.04.2020   67\n",
       "10.06.2019   58\n",
       "03.04.2019   56\n",
       "06.06.2019   52"
      ]
     },
     "execution_count": 345,
     "metadata": {},
     "output_type": "execute_result"
    }
   ],
   "source": [
    "import re\n",
    "# each_persons_doc_time = pd.DataFrame(doc_info_df.loc[doc_info_df['from'] == persons[0]])\n",
    "# print(each_persons_doc_time)\n",
    "\n",
    "# date_time = each_persons_doc_time.iloc[1]['time']\n",
    "\n",
    "day = []\n",
    "hour = []\n",
    "for row in range(len(doc_info_df)):\n",
    "    date_time = doc_info_df.iloc[row]['time']\n",
    "    date_time_re = re.findall('(\\d{2}\\.\\d{2}\\.\\d{4})\\s(\\d{2}):\\d{2}:\\d{2}', date_time)\n",
    "    day.append(date_time_re[0][0])\n",
    "    hour.append(str(date_time_re[0][1]+':00'))\n",
    "\n",
    "doc_info_df['day'] = day\n",
    "doc_info_df['hour'] = hour\n",
    "\n",
    "# doc_info_df['day'].unique()\n",
    "hour_counts = pd.DataFrame(doc_info_df['hour'].value_counts())\n",
    "day_counts = pd.DataFrame(doc_info_df['day'].value_counts())\n",
    "day_counts_top = day_counts[:10]\n",
    "hour_counts_top = hour_counts.sort_index()\n",
    "day_counts_top\n"
   ]
  },
  {
   "cell_type": "code",
   "execution_count": 375,
   "metadata": {},
   "outputs": [
    {
     "data": {
      "image/png": "[encoded data removed]",
      "text/plain": [
       "<Figure size 1152x720 with 2 Axes>"
      ]
     },
     "metadata": {
      "needs_background": "light"
     },
     "output_type": "display_data"
    }
   ],
   "source": [
    "plt.figure(figsize=(16,10))\n",
    "plt.subplot(2,1,1)\n",
    "plt.bar(hour_counts_top.index,hour_counts_top.hour, color='#007892')\n",
    "\n",
    "plt.subplot(2,1,2)\n",
    "plt.bar(day_counts_top.index, day_counts_top.day, color='#ffd8a6')\n",
    "\n",
    "plt.show()"
   ]
  },
  {
   "cell_type": "code",
   "execution_count": null,
   "metadata": {},
   "outputs": [],
   "source": []
  }
 ],
 "metadata": {
  "kernelspec": {
   "display_name": "Python 3.6.9 64-bit",
   "language": "python",
   "name": "python36964bit2b9baf69c8464a97bf71d39eae943c4f"
  },
  "language_info": {
   "codemirror_mode": {
    "name": "ipython",
    "version": 3
   },
   "file_extension": ".py",
   "mimetype": "text/x-python",
   "name": "python",
   "nbconvert_exporter": "python",
   "pygments_lexer": "ipython3",
   "version": "3.6.9"
  }
 },
 "nbformat": 4,
 "nbformat_minor": 4
}
